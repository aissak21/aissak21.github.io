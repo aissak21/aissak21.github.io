{
  "nbformat": 4,
  "nbformat_minor": 0,
  "metadata": {
    "colab": {
      "name": "Untitled0.ipynb",
      "provenance": [],
      "authorship_tag": "ABX9TyMY1PIJNp8xi7EcEgurANIw",
      "include_colab_link": true
    },
    "kernelspec": {
      "name": "python3",
      "display_name": "Python 3"
    }
  },
  "cells": [
    {
      "cell_type": "markdown",
      "metadata": {
        "id": "view-in-github",
        "colab_type": "text"
      },
      "source": [
        "<a href=\"https://colab.research.google.com/github/aissak21/aissak21.github.io/blob/master/COVID_timeseries.ipynb\" target=\"_parent\"><img src=\"https://colab.research.google.com/assets/colab-badge.svg\" alt=\"Open In Colab\"/></a>"
      ]
    },
    {
      "cell_type": "markdown",
      "metadata": {
        "id": "3J_t-RaS2exr",
        "colab_type": "text"
      },
      "source": [
        "**Load Packages**"
      ]
    },
    {
      "cell_type": "code",
      "metadata": {
        "id": "82gJPBZctxZW",
        "colab_type": "code",
        "colab": {
          "base_uri": "https://localhost:8080/",
          "height": 34
        },
        "outputId": "9f95d98a-0708-432e-a076-498ac2275f4d"
      },
      "source": [
        "import torch #Pytorch = DL library\n",
        "\n",
        "import os #Operating system = interact with os\n",
        "\n",
        "import numpy as np #Numpy = array-processing package.\n",
        "\n",
        "import pandas as pd # Pandas = data manipulation tool\n",
        "\n",
        "from tqdm import tqdm #Progress = make your loops show a progress meter\n",
        "\n",
        "import seaborn as sns #Seaborn =  library for making statistical graphics in Python\n",
        "\n",
        "from pylab import rcParams #Pylab = bulk import (matplotlib, numpy...)\n",
        "\n",
        "import matplotlib.pyplot as plt #Pyplot = a collection of functions that make matplotlib work like MATLAB.\n",
        "\n",
        "from matplotlib import rc #Matplotlib = visualization in Python\n",
        "\n",
        "from sklearn.preprocessing import MinMaxScaler #Sklearn = ML in python: classification, regression, clustering...\n",
        "\n",
        "from pandas.plotting import register_matplotlib_converters\n",
        "\n",
        "from torch import nn, optim #From module, import a specific aspect\n",
        "\n",
        "import torch.nn.functional as F\n",
        "\n",
        "%matplotlib inline\n",
        "%config InlineBackend.figure_format='retina'\n",
        "\n",
        "sns.set(style='whitegrid',palette='muted',font_scale=1.2)\n",
        "\n",
        "HAPPY_COLORS_PALETTE = [\"#01BEFE\",\"#FFDD00\",\"#FF7D00\",\"#FF006D\",\"#93D30C\",\"#8F00FF\"]\n",
        "\n",
        "sns.set_palette(sns.color_palette(HAPPY_COLORS_PALETTE))\n",
        "\n",
        "rcParams['figure.figsize'] = 14,10\n",
        "\n",
        "register_matplotlib_converters()\n",
        "\n",
        "RANDOM_SEED = 42\n",
        "np.random.seed(RANDOM_SEED)\n",
        "torch.manual_seed(RANDOM_SEED)"
      ],
      "execution_count": 35,
      "outputs": [
        {
          "output_type": "execute_result",
          "data": {
            "text/plain": [
              "<torch._C.Generator at 0x7fc8e5a75198>"
            ]
          },
          "metadata": {
            "tags": []
          },
          "execution_count": 35
        }
      ]
    },
    {
      "cell_type": "markdown",
      "metadata": {
        "id": "OA37je5V2aoD",
        "colab_type": "text"
      },
      "source": [
        "# Import Data as Pandas DF"
      ]
    },
    {
      "cell_type": "code",
      "metadata": {
        "id": "P8Vsp3Qw0KRL",
        "colab_type": "code",
        "colab": {
          "base_uri": "https://localhost:8080/",
          "height": 253
        },
        "outputId": "23e764d7-27d9-41cd-bf6b-f86851f647b0"
      },
      "source": [
        "url = 'https://raw.githubusercontent.com/CSSEGISandData/COVID-19/master/csse_covid_19_data/csse_covid_19_time_series/time_series_covid19_confirmed_global.csv'\n",
        "df = pd.read_csv(url)\n",
        "df.head() #See the column headers"
      ],
      "execution_count": 36,
      "outputs": [
        {
          "output_type": "execute_result",
          "data": {
            "text/html": [
              "<div>\n",
              "<style scoped>\n",
              "    .dataframe tbody tr th:only-of-type {\n",
              "        vertical-align: middle;\n",
              "    }\n",
              "\n",
              "    .dataframe tbody tr th {\n",
              "        vertical-align: top;\n",
              "    }\n",
              "\n",
              "    .dataframe thead th {\n",
              "        text-align: right;\n",
              "    }\n",
              "</style>\n",
              "<table border=\"1\" class=\"dataframe\">\n",
              "  <thead>\n",
              "    <tr style=\"text-align: right;\">\n",
              "      <th></th>\n",
              "      <th>Province/State</th>\n",
              "      <th>Country/Region</th>\n",
              "      <th>Lat</th>\n",
              "      <th>Long</th>\n",
              "      <th>1/22/20</th>\n",
              "      <th>1/23/20</th>\n",
              "      <th>1/24/20</th>\n",
              "      <th>1/25/20</th>\n",
              "      <th>1/26/20</th>\n",
              "      <th>1/27/20</th>\n",
              "      <th>1/28/20</th>\n",
              "      <th>1/29/20</th>\n",
              "      <th>1/30/20</th>\n",
              "      <th>1/31/20</th>\n",
              "      <th>2/1/20</th>\n",
              "      <th>2/2/20</th>\n",
              "      <th>2/3/20</th>\n",
              "      <th>2/4/20</th>\n",
              "      <th>2/5/20</th>\n",
              "      <th>2/6/20</th>\n",
              "      <th>2/7/20</th>\n",
              "      <th>2/8/20</th>\n",
              "      <th>2/9/20</th>\n",
              "      <th>2/10/20</th>\n",
              "      <th>2/11/20</th>\n",
              "      <th>2/12/20</th>\n",
              "      <th>2/13/20</th>\n",
              "      <th>2/14/20</th>\n",
              "      <th>2/15/20</th>\n",
              "      <th>2/16/20</th>\n",
              "      <th>2/17/20</th>\n",
              "      <th>2/18/20</th>\n",
              "      <th>2/19/20</th>\n",
              "      <th>2/20/20</th>\n",
              "      <th>2/21/20</th>\n",
              "      <th>2/22/20</th>\n",
              "      <th>2/23/20</th>\n",
              "      <th>2/24/20</th>\n",
              "      <th>2/25/20</th>\n",
              "      <th>2/26/20</th>\n",
              "      <th>...</th>\n",
              "      <th>8/8/20</th>\n",
              "      <th>8/9/20</th>\n",
              "      <th>8/10/20</th>\n",
              "      <th>8/11/20</th>\n",
              "      <th>8/12/20</th>\n",
              "      <th>8/13/20</th>\n",
              "      <th>8/14/20</th>\n",
              "      <th>8/15/20</th>\n",
              "      <th>8/16/20</th>\n",
              "      <th>8/17/20</th>\n",
              "      <th>8/18/20</th>\n",
              "      <th>8/19/20</th>\n",
              "      <th>8/20/20</th>\n",
              "      <th>8/21/20</th>\n",
              "      <th>8/22/20</th>\n",
              "      <th>8/23/20</th>\n",
              "      <th>8/24/20</th>\n",
              "      <th>8/25/20</th>\n",
              "      <th>8/26/20</th>\n",
              "      <th>8/27/20</th>\n",
              "      <th>8/28/20</th>\n",
              "      <th>8/29/20</th>\n",
              "      <th>8/30/20</th>\n",
              "      <th>8/31/20</th>\n",
              "      <th>9/1/20</th>\n",
              "      <th>9/2/20</th>\n",
              "      <th>9/3/20</th>\n",
              "      <th>9/4/20</th>\n",
              "      <th>9/5/20</th>\n",
              "      <th>9/6/20</th>\n",
              "      <th>9/7/20</th>\n",
              "      <th>9/8/20</th>\n",
              "      <th>9/9/20</th>\n",
              "      <th>9/10/20</th>\n",
              "      <th>9/11/20</th>\n",
              "      <th>9/12/20</th>\n",
              "      <th>9/13/20</th>\n",
              "      <th>9/14/20</th>\n",
              "      <th>9/15/20</th>\n",
              "      <th>9/16/20</th>\n",
              "    </tr>\n",
              "  </thead>\n",
              "  <tbody>\n",
              "    <tr>\n",
              "      <th>0</th>\n",
              "      <td>NaN</td>\n",
              "      <td>Afghanistan</td>\n",
              "      <td>33.93911</td>\n",
              "      <td>67.709953</td>\n",
              "      <td>0</td>\n",
              "      <td>0</td>\n",
              "      <td>0</td>\n",
              "      <td>0</td>\n",
              "      <td>0</td>\n",
              "      <td>0</td>\n",
              "      <td>0</td>\n",
              "      <td>0</td>\n",
              "      <td>0</td>\n",
              "      <td>0</td>\n",
              "      <td>0</td>\n",
              "      <td>0</td>\n",
              "      <td>0</td>\n",
              "      <td>0</td>\n",
              "      <td>0</td>\n",
              "      <td>0</td>\n",
              "      <td>0</td>\n",
              "      <td>0</td>\n",
              "      <td>0</td>\n",
              "      <td>0</td>\n",
              "      <td>0</td>\n",
              "      <td>0</td>\n",
              "      <td>0</td>\n",
              "      <td>0</td>\n",
              "      <td>0</td>\n",
              "      <td>0</td>\n",
              "      <td>0</td>\n",
              "      <td>0</td>\n",
              "      <td>0</td>\n",
              "      <td>0</td>\n",
              "      <td>0</td>\n",
              "      <td>0</td>\n",
              "      <td>0</td>\n",
              "      <td>1</td>\n",
              "      <td>1</td>\n",
              "      <td>1</td>\n",
              "      <td>...</td>\n",
              "      <td>37054</td>\n",
              "      <td>37054</td>\n",
              "      <td>37162</td>\n",
              "      <td>37269</td>\n",
              "      <td>37345</td>\n",
              "      <td>37424</td>\n",
              "      <td>37431</td>\n",
              "      <td>37551</td>\n",
              "      <td>37596</td>\n",
              "      <td>37599</td>\n",
              "      <td>37599</td>\n",
              "      <td>37599</td>\n",
              "      <td>37856</td>\n",
              "      <td>37894</td>\n",
              "      <td>37953</td>\n",
              "      <td>37999</td>\n",
              "      <td>38054</td>\n",
              "      <td>38070</td>\n",
              "      <td>38113</td>\n",
              "      <td>38129</td>\n",
              "      <td>38140</td>\n",
              "      <td>38143</td>\n",
              "      <td>38162</td>\n",
              "      <td>38165</td>\n",
              "      <td>38196</td>\n",
              "      <td>38243</td>\n",
              "      <td>38288</td>\n",
              "      <td>38304</td>\n",
              "      <td>38324</td>\n",
              "      <td>38398</td>\n",
              "      <td>38494</td>\n",
              "      <td>38520</td>\n",
              "      <td>38544</td>\n",
              "      <td>38572</td>\n",
              "      <td>38606</td>\n",
              "      <td>38641</td>\n",
              "      <td>38716</td>\n",
              "      <td>38772</td>\n",
              "      <td>38815</td>\n",
              "      <td>38855</td>\n",
              "    </tr>\n",
              "    <tr>\n",
              "      <th>1</th>\n",
              "      <td>NaN</td>\n",
              "      <td>Albania</td>\n",
              "      <td>41.15330</td>\n",
              "      <td>20.168300</td>\n",
              "      <td>0</td>\n",
              "      <td>0</td>\n",
              "      <td>0</td>\n",
              "      <td>0</td>\n",
              "      <td>0</td>\n",
              "      <td>0</td>\n",
              "      <td>0</td>\n",
              "      <td>0</td>\n",
              "      <td>0</td>\n",
              "      <td>0</td>\n",
              "      <td>0</td>\n",
              "      <td>0</td>\n",
              "      <td>0</td>\n",
              "      <td>0</td>\n",
              "      <td>0</td>\n",
              "      <td>0</td>\n",
              "      <td>0</td>\n",
              "      <td>0</td>\n",
              "      <td>0</td>\n",
              "      <td>0</td>\n",
              "      <td>0</td>\n",
              "      <td>0</td>\n",
              "      <td>0</td>\n",
              "      <td>0</td>\n",
              "      <td>0</td>\n",
              "      <td>0</td>\n",
              "      <td>0</td>\n",
              "      <td>0</td>\n",
              "      <td>0</td>\n",
              "      <td>0</td>\n",
              "      <td>0</td>\n",
              "      <td>0</td>\n",
              "      <td>0</td>\n",
              "      <td>0</td>\n",
              "      <td>0</td>\n",
              "      <td>0</td>\n",
              "      <td>...</td>\n",
              "      <td>6275</td>\n",
              "      <td>6411</td>\n",
              "      <td>6536</td>\n",
              "      <td>6676</td>\n",
              "      <td>6817</td>\n",
              "      <td>6971</td>\n",
              "      <td>7117</td>\n",
              "      <td>7260</td>\n",
              "      <td>7380</td>\n",
              "      <td>7499</td>\n",
              "      <td>7654</td>\n",
              "      <td>7812</td>\n",
              "      <td>7967</td>\n",
              "      <td>8119</td>\n",
              "      <td>8275</td>\n",
              "      <td>8427</td>\n",
              "      <td>8605</td>\n",
              "      <td>8759</td>\n",
              "      <td>8927</td>\n",
              "      <td>9083</td>\n",
              "      <td>9195</td>\n",
              "      <td>9279</td>\n",
              "      <td>9380</td>\n",
              "      <td>9513</td>\n",
              "      <td>9606</td>\n",
              "      <td>9728</td>\n",
              "      <td>9844</td>\n",
              "      <td>9967</td>\n",
              "      <td>10102</td>\n",
              "      <td>10255</td>\n",
              "      <td>10406</td>\n",
              "      <td>10553</td>\n",
              "      <td>10704</td>\n",
              "      <td>10860</td>\n",
              "      <td>11021</td>\n",
              "      <td>11185</td>\n",
              "      <td>11353</td>\n",
              "      <td>11520</td>\n",
              "      <td>11672</td>\n",
              "      <td>11816</td>\n",
              "    </tr>\n",
              "    <tr>\n",
              "      <th>2</th>\n",
              "      <td>NaN</td>\n",
              "      <td>Algeria</td>\n",
              "      <td>28.03390</td>\n",
              "      <td>1.659600</td>\n",
              "      <td>0</td>\n",
              "      <td>0</td>\n",
              "      <td>0</td>\n",
              "      <td>0</td>\n",
              "      <td>0</td>\n",
              "      <td>0</td>\n",
              "      <td>0</td>\n",
              "      <td>0</td>\n",
              "      <td>0</td>\n",
              "      <td>0</td>\n",
              "      <td>0</td>\n",
              "      <td>0</td>\n",
              "      <td>0</td>\n",
              "      <td>0</td>\n",
              "      <td>0</td>\n",
              "      <td>0</td>\n",
              "      <td>0</td>\n",
              "      <td>0</td>\n",
              "      <td>0</td>\n",
              "      <td>0</td>\n",
              "      <td>0</td>\n",
              "      <td>0</td>\n",
              "      <td>0</td>\n",
              "      <td>0</td>\n",
              "      <td>0</td>\n",
              "      <td>0</td>\n",
              "      <td>0</td>\n",
              "      <td>0</td>\n",
              "      <td>0</td>\n",
              "      <td>0</td>\n",
              "      <td>0</td>\n",
              "      <td>0</td>\n",
              "      <td>0</td>\n",
              "      <td>0</td>\n",
              "      <td>1</td>\n",
              "      <td>1</td>\n",
              "      <td>...</td>\n",
              "      <td>34693</td>\n",
              "      <td>35160</td>\n",
              "      <td>35712</td>\n",
              "      <td>36204</td>\n",
              "      <td>36699</td>\n",
              "      <td>37187</td>\n",
              "      <td>37664</td>\n",
              "      <td>38133</td>\n",
              "      <td>38583</td>\n",
              "      <td>39025</td>\n",
              "      <td>39444</td>\n",
              "      <td>39847</td>\n",
              "      <td>40258</td>\n",
              "      <td>40667</td>\n",
              "      <td>41068</td>\n",
              "      <td>41460</td>\n",
              "      <td>41858</td>\n",
              "      <td>42228</td>\n",
              "      <td>42619</td>\n",
              "      <td>43016</td>\n",
              "      <td>43403</td>\n",
              "      <td>43781</td>\n",
              "      <td>44146</td>\n",
              "      <td>44494</td>\n",
              "      <td>44833</td>\n",
              "      <td>45158</td>\n",
              "      <td>45469</td>\n",
              "      <td>45773</td>\n",
              "      <td>46071</td>\n",
              "      <td>46364</td>\n",
              "      <td>46653</td>\n",
              "      <td>46938</td>\n",
              "      <td>47216</td>\n",
              "      <td>47488</td>\n",
              "      <td>47752</td>\n",
              "      <td>48007</td>\n",
              "      <td>48254</td>\n",
              "      <td>48496</td>\n",
              "      <td>48734</td>\n",
              "      <td>48966</td>\n",
              "    </tr>\n",
              "    <tr>\n",
              "      <th>3</th>\n",
              "      <td>NaN</td>\n",
              "      <td>Andorra</td>\n",
              "      <td>42.50630</td>\n",
              "      <td>1.521800</td>\n",
              "      <td>0</td>\n",
              "      <td>0</td>\n",
              "      <td>0</td>\n",
              "      <td>0</td>\n",
              "      <td>0</td>\n",
              "      <td>0</td>\n",
              "      <td>0</td>\n",
              "      <td>0</td>\n",
              "      <td>0</td>\n",
              "      <td>0</td>\n",
              "      <td>0</td>\n",
              "      <td>0</td>\n",
              "      <td>0</td>\n",
              "      <td>0</td>\n",
              "      <td>0</td>\n",
              "      <td>0</td>\n",
              "      <td>0</td>\n",
              "      <td>0</td>\n",
              "      <td>0</td>\n",
              "      <td>0</td>\n",
              "      <td>0</td>\n",
              "      <td>0</td>\n",
              "      <td>0</td>\n",
              "      <td>0</td>\n",
              "      <td>0</td>\n",
              "      <td>0</td>\n",
              "      <td>0</td>\n",
              "      <td>0</td>\n",
              "      <td>0</td>\n",
              "      <td>0</td>\n",
              "      <td>0</td>\n",
              "      <td>0</td>\n",
              "      <td>0</td>\n",
              "      <td>0</td>\n",
              "      <td>0</td>\n",
              "      <td>0</td>\n",
              "      <td>...</td>\n",
              "      <td>955</td>\n",
              "      <td>955</td>\n",
              "      <td>963</td>\n",
              "      <td>963</td>\n",
              "      <td>977</td>\n",
              "      <td>981</td>\n",
              "      <td>989</td>\n",
              "      <td>989</td>\n",
              "      <td>989</td>\n",
              "      <td>1005</td>\n",
              "      <td>1005</td>\n",
              "      <td>1024</td>\n",
              "      <td>1024</td>\n",
              "      <td>1045</td>\n",
              "      <td>1045</td>\n",
              "      <td>1045</td>\n",
              "      <td>1060</td>\n",
              "      <td>1060</td>\n",
              "      <td>1098</td>\n",
              "      <td>1098</td>\n",
              "      <td>1124</td>\n",
              "      <td>1124</td>\n",
              "      <td>1124</td>\n",
              "      <td>1176</td>\n",
              "      <td>1184</td>\n",
              "      <td>1199</td>\n",
              "      <td>1199</td>\n",
              "      <td>1215</td>\n",
              "      <td>1215</td>\n",
              "      <td>1215</td>\n",
              "      <td>1261</td>\n",
              "      <td>1261</td>\n",
              "      <td>1301</td>\n",
              "      <td>1301</td>\n",
              "      <td>1344</td>\n",
              "      <td>1344</td>\n",
              "      <td>1344</td>\n",
              "      <td>1438</td>\n",
              "      <td>1438</td>\n",
              "      <td>1483</td>\n",
              "    </tr>\n",
              "    <tr>\n",
              "      <th>4</th>\n",
              "      <td>NaN</td>\n",
              "      <td>Angola</td>\n",
              "      <td>-11.20270</td>\n",
              "      <td>17.873900</td>\n",
              "      <td>0</td>\n",
              "      <td>0</td>\n",
              "      <td>0</td>\n",
              "      <td>0</td>\n",
              "      <td>0</td>\n",
              "      <td>0</td>\n",
              "      <td>0</td>\n",
              "      <td>0</td>\n",
              "      <td>0</td>\n",
              "      <td>0</td>\n",
              "      <td>0</td>\n",
              "      <td>0</td>\n",
              "      <td>0</td>\n",
              "      <td>0</td>\n",
              "      <td>0</td>\n",
              "      <td>0</td>\n",
              "      <td>0</td>\n",
              "      <td>0</td>\n",
              "      <td>0</td>\n",
              "      <td>0</td>\n",
              "      <td>0</td>\n",
              "      <td>0</td>\n",
              "      <td>0</td>\n",
              "      <td>0</td>\n",
              "      <td>0</td>\n",
              "      <td>0</td>\n",
              "      <td>0</td>\n",
              "      <td>0</td>\n",
              "      <td>0</td>\n",
              "      <td>0</td>\n",
              "      <td>0</td>\n",
              "      <td>0</td>\n",
              "      <td>0</td>\n",
              "      <td>0</td>\n",
              "      <td>0</td>\n",
              "      <td>0</td>\n",
              "      <td>...</td>\n",
              "      <td>1572</td>\n",
              "      <td>1672</td>\n",
              "      <td>1679</td>\n",
              "      <td>1735</td>\n",
              "      <td>1762</td>\n",
              "      <td>1815</td>\n",
              "      <td>1852</td>\n",
              "      <td>1879</td>\n",
              "      <td>1906</td>\n",
              "      <td>1935</td>\n",
              "      <td>1966</td>\n",
              "      <td>2015</td>\n",
              "      <td>2044</td>\n",
              "      <td>2068</td>\n",
              "      <td>2134</td>\n",
              "      <td>2171</td>\n",
              "      <td>2222</td>\n",
              "      <td>2283</td>\n",
              "      <td>2332</td>\n",
              "      <td>2415</td>\n",
              "      <td>2471</td>\n",
              "      <td>2551</td>\n",
              "      <td>2624</td>\n",
              "      <td>2654</td>\n",
              "      <td>2729</td>\n",
              "      <td>2777</td>\n",
              "      <td>2805</td>\n",
              "      <td>2876</td>\n",
              "      <td>2935</td>\n",
              "      <td>2965</td>\n",
              "      <td>2981</td>\n",
              "      <td>3033</td>\n",
              "      <td>3092</td>\n",
              "      <td>3217</td>\n",
              "      <td>3279</td>\n",
              "      <td>3335</td>\n",
              "      <td>3388</td>\n",
              "      <td>3439</td>\n",
              "      <td>3569</td>\n",
              "      <td>3675</td>\n",
              "    </tr>\n",
              "  </tbody>\n",
              "</table>\n",
              "<p>5 rows × 243 columns</p>\n",
              "</div>"
            ],
            "text/plain": [
              "  Province/State Country/Region       Lat  ...  9/14/20  9/15/20  9/16/20\n",
              "0            NaN    Afghanistan  33.93911  ...    38772    38815    38855\n",
              "1            NaN        Albania  41.15330  ...    11520    11672    11816\n",
              "2            NaN        Algeria  28.03390  ...    48496    48734    48966\n",
              "3            NaN        Andorra  42.50630  ...     1438     1438     1483\n",
              "4            NaN         Angola -11.20270  ...     3439     3569     3675\n",
              "\n",
              "[5 rows x 243 columns]"
            ]
          },
          "metadata": {
            "tags": []
          },
          "execution_count": 36
        }
      ]
    },
    {
      "cell_type": "markdown",
      "metadata": {
        "id": "P_NBFnon2T6e",
        "colab_type": "text"
      },
      "source": [
        "#Data Exploration"
      ]
    },
    {
      "cell_type": "code",
      "metadata": {
        "id": "O1MNj_6k2IXX",
        "colab_type": "code",
        "colab": {
          "base_uri": "https://localhost:8080/",
          "height": 221
        },
        "outputId": "b7878ca8-9851-46ad-981d-9398f8eedadb"
      },
      "source": [
        "df.head() #See the column headers\n",
        "df = df.iloc[:,4:] #Drop first 4 columns\n",
        "df.head() #New df with no qualitative data\n",
        "df.isnull().sum() #Check for missing values"
      ],
      "execution_count": 37,
      "outputs": [
        {
          "output_type": "execute_result",
          "data": {
            "text/plain": [
              "1/22/20    0\n",
              "1/23/20    0\n",
              "1/24/20    0\n",
              "1/25/20    0\n",
              "1/26/20    0\n",
              "          ..\n",
              "9/12/20    0\n",
              "9/13/20    0\n",
              "9/14/20    0\n",
              "9/15/20    0\n",
              "9/16/20    0\n",
              "Length: 239, dtype: int64"
            ]
          },
          "metadata": {
            "tags": []
          },
          "execution_count": 37
        }
      ]
    },
    {
      "cell_type": "code",
      "metadata": {
        "id": "TiPf8LME3Op3",
        "colab_type": "code",
        "colab": {
          "base_uri": "https://localhost:8080/",
          "height": 119
        },
        "outputId": "570912c9-b519-4887-db75-4bc7b0a1e908"
      },
      "source": [
        "daily_cases = df.sum(axis=0) #each column in the represents a daily case, sum the rows for all cases in a day\n",
        "daily_cases.head()"
      ],
      "execution_count": 38,
      "outputs": [
        {
          "output_type": "execute_result",
          "data": {
            "text/plain": [
              "1/22/20     555\n",
              "1/23/20     654\n",
              "1/24/20     941\n",
              "1/25/20    1434\n",
              "1/26/20    2118\n",
              "dtype: int64"
            ]
          },
          "metadata": {
            "tags": []
          },
          "execution_count": 38
        }
      ]
    },
    {
      "cell_type": "code",
      "metadata": {
        "id": "LK1pZ5m-5qFi",
        "colab_type": "code",
        "colab": {
          "base_uri": "https://localhost:8080/",
          "height": 119
        },
        "outputId": "151b999f-e2b5-4cb1-daad-8e652c1afc22"
      },
      "source": [
        "daily_cases.index = pd.to_datetime(daily_cases.index) #Change date time formatting\n",
        "daily_cases.head()"
      ],
      "execution_count": 39,
      "outputs": [
        {
          "output_type": "execute_result",
          "data": {
            "text/plain": [
              "2020-01-22     555\n",
              "2020-01-23     654\n",
              "2020-01-24     941\n",
              "2020-01-25    1434\n",
              "2020-01-26    2118\n",
              "dtype: int64"
            ]
          },
          "metadata": {
            "tags": []
          },
          "execution_count": 39
        }
      ]
    },
    {
      "cell_type": "code",
      "metadata": {
        "id": "H4QXpuXV55vt",
        "colab_type": "code",
        "colab": {
          "base_uri": "https://localhost:8080/",
          "height": 614
        },
        "outputId": "4fe4e4b3-cc74-44f8-d966-32bb111888d4"
      },
      "source": [
        "plt.plot(daily_cases)\n",
        "plt.title('Cumulative Daily Cases');"
      ],
      "execution_count": 40,
      "outputs": [
        {
          "output_type": "display_data",
          "data": {
            "image/png": "[encoded data removed]",
            "text/plain": [
              "<Figure size 1008x720 with 1 Axes>"
            ]
          },
          "metadata": {
            "tags": [],
            "image/png": {
              "width": 826,
              "height": 597
            }
          }
        }
      ]
    },
    {
      "cell_type": "markdown",
      "metadata": {
        "id": "BXAH28uL6yVV",
        "colab_type": "text"
      },
      "source": [
        "Taking the difference to see how many cases are found per day"
      ]
    },
    {
      "cell_type": "code",
      "metadata": {
        "id": "Cd3ZT9yB6WpY",
        "colab_type": "code",
        "colab": {
          "base_uri": "https://localhost:8080/",
          "height": 119
        },
        "outputId": "705bf6e6-c46f-496f-895f-f77f4675b9ce"
      },
      "source": [
        "daily_cases = daily_cases.diff().fillna(daily_cases[0]).astype(np.int64)\n",
        "daily_cases.head()"
      ],
      "execution_count": 41,
      "outputs": [
        {
          "output_type": "execute_result",
          "data": {
            "text/plain": [
              "2020-01-22    555\n",
              "2020-01-23     99\n",
              "2020-01-24    287\n",
              "2020-01-25    493\n",
              "2020-01-26    684\n",
              "dtype: int64"
            ]
          },
          "metadata": {
            "tags": []
          },
          "execution_count": 41
        }
      ]
    },
    {
      "cell_type": "code",
      "metadata": {
        "id": "wwho5PEE7Nur",
        "colab_type": "code",
        "colab": {
          "base_uri": "https://localhost:8080/",
          "height": 614
        },
        "outputId": "a2079e2f-d2ee-4356-c49d-850daa07f2d5"
      },
      "source": [
        "plt.plot(daily_cases)\n",
        "plt.title('Daily Cases');"
      ],
      "execution_count": 42,
      "outputs": [
        {
          "output_type": "display_data",
          "data": {
            "image/png": "[encoded data removed]",
            "text/plain": [
              "<Figure size 1008x720 with 1 Axes>"
            ]
          },
          "metadata": {
            "tags": [],
            "image/png": {
              "width": 855,
              "height": 597
            }
          }
        }
      ]
    },
    {
      "cell_type": "code",
      "metadata": {
        "id": "pjx771Hg72sY",
        "colab_type": "code",
        "colab": {
          "base_uri": "https://localhost:8080/",
          "height": 34
        },
        "outputId": "cee34f47-5bb6-4a8f-c337-d04d182f9e23"
      },
      "source": [
        "daily_cases.shape #239 days worth of data"
      ],
      "execution_count": 43,
      "outputs": [
        {
          "output_type": "execute_result",
          "data": {
            "text/plain": [
              "(239,)"
            ]
          },
          "metadata": {
            "tags": []
          },
          "execution_count": 43
        }
      ]
    },
    {
      "cell_type": "markdown",
      "metadata": {
        "id": "dE3Cy4uc8N9Z",
        "colab_type": "text"
      },
      "source": [
        "# Preprocessing"
      ]
    },
    {
      "cell_type": "code",
      "metadata": {
        "id": "VZ8RabgT8PkO",
        "colab_type": "code",
        "colab": {}
      },
      "source": [
        "test_data_size = 48\n",
        "train_data = daily_cases[:-test_data_size] #80% training\n",
        "test_data = daily_cases.iloc[-test_data_size:] #20% testing"
      ],
      "execution_count": 44,
      "outputs": []
    },
    {
      "cell_type": "code",
      "metadata": {
        "id": "wnzTcZ-w87sY",
        "colab_type": "code",
        "colab": {
          "base_uri": "https://localhost:8080/",
          "height": 34
        },
        "outputId": "410c467d-7148-46ba-e05d-d90ac1c47ed1"
      },
      "source": [
        "train_data.shape"
      ],
      "execution_count": 45,
      "outputs": [
        {
          "output_type": "execute_result",
          "data": {
            "text/plain": [
              "(191,)"
            ]
          },
          "metadata": {
            "tags": []
          },
          "execution_count": 45
        }
      ]
    },
    {
      "cell_type": "code",
      "metadata": {
        "id": "Sj9GENg_9ANY",
        "colab_type": "code",
        "colab": {
          "base_uri": "https://localhost:8080/",
          "height": 34
        },
        "outputId": "666b0825-aac1-41e5-92d7-e1e750d2c187"
      },
      "source": [
        "test_data.shape"
      ],
      "execution_count": 46,
      "outputs": [
        {
          "output_type": "execute_result",
          "data": {
            "text/plain": [
              "(48,)"
            ]
          },
          "metadata": {
            "tags": []
          },
          "execution_count": 46
        }
      ]
    },
    {
      "cell_type": "code",
      "metadata": {
        "id": "KkrCfPE-9VFs",
        "colab_type": "code",
        "colab": {}
      },
      "source": [
        "scaler = MinMaxScaler() #Default scale from 0 - 1\n",
        "scaler = scaler.fit(np.expand_dims(train_data, axis=1)) #Create a scale, based on train data\n",
        "\n",
        "train_data = scaler.transform(np.expand_dims(train_data, axis=1)) #Apply to train date\n",
        "test_data = scaler.transform(np.expand_dims(test_data, axis=1)) #Apply to test date"
      ],
      "execution_count": 47,
      "outputs": []
    },
    {
      "cell_type": "code",
      "metadata": {
        "id": "WQ-Zcmr4-KGi",
        "colab_type": "code",
        "colab": {}
      },
      "source": [
        "# Create sequences. \n",
        "#LSTM = sequence based models \n",
        "\n",
        "def sliding_windows(data, seq_length):\n",
        "  xs = []\n",
        "  ys = []\n",
        "\n",
        "  for i in range(len(data) - seq_length -1 ):\n",
        "    \n",
        "    # Next element in the data. Prediction\n",
        "    x = data[i:(i+seq_length)]\n",
        "    y = data[i+seq_length] \n",
        "\n",
        "    # Add to our array. Addition\n",
        "    xs.append(x)\n",
        "    ys.append(y)\n",
        "\n",
        "  return np.array(xs), np.array(ys)"
      ],
      "execution_count": 50,
      "outputs": []
    },
    {
      "cell_type": "code",
      "metadata": {
        "id": "K4VlhxCz_xwG",
        "colab_type": "code",
        "colab": {}
      },
      "source": [
        "seq_length = 5 #Sequence of 5 days to create prediction\n",
        "\n",
        "x_train, y_train = sliding_windows(train_data, seq_length)\n",
        "x_test, y_test = sliding_windows(test_data, seq_length)"
      ],
      "execution_count": 51,
      "outputs": []
    },
    {
      "cell_type": "code",
      "metadata": {
        "id": "QB6jdtFFATfd",
        "colab_type": "code",
        "colab": {
          "base_uri": "https://localhost:8080/",
          "height": 272
        },
        "outputId": "81551f42-1d02-4aaa-c70e-85aefc06ddda"
      },
      "source": [
        "x_train.shape #Number of sequences, sequnce length, feature\n",
        "train_data[:15]"
      ],
      "execution_count": 62,
      "outputs": [
        {
          "output_type": "execute_result",
          "data": {
            "text/plain": [
              "array([[0.00157751],\n",
              "       [0.        ],\n",
              "       [0.00065038],\n",
              "       [0.00136302],\n",
              "       [0.00202378],\n",
              "       [0.00245621],\n",
              "       [0.00882853],\n",
              "       [0.00169167],\n",
              "       [0.00681166],\n",
              "       [0.00551091],\n",
              "       [0.00696388],\n",
              "       [0.01608646],\n",
              "       [0.01038182],\n",
              "       [0.01353338],\n",
              "       [0.01261317]])"
            ]
          },
          "metadata": {
            "tags": []
          },
          "execution_count": 62
        }
      ]
    },
    {
      "cell_type": "code",
      "metadata": {
        "id": "upDAdlEoAzqo",
        "colab_type": "code",
        "colab": {
          "base_uri": "https://localhost:8080/",
          "height": 306
        },
        "outputId": "6f59f294-18ad-4111-8476-d23924785b58"
      },
      "source": [
        "x_train[:3] \n",
        "#Last entry in 2nd sequence (x_train) = 1st entry in y_train\n",
        "#Last entry in 3rd sequence (x_train) = 2nd entry in y_train ..."
      ],
      "execution_count": 59,
      "outputs": [
        {
          "output_type": "execute_result",
          "data": {
            "text/plain": [
              "array([[[0.00157751],\n",
              "        [0.        ],\n",
              "        [0.00065038],\n",
              "        [0.00136302],\n",
              "        [0.00202378]],\n",
              "\n",
              "       [[0.        ],\n",
              "        [0.00065038],\n",
              "        [0.00136302],\n",
              "        [0.00202378],\n",
              "        [0.00245621]],\n",
              "\n",
              "       [[0.00065038],\n",
              "        [0.00136302],\n",
              "        [0.00202378],\n",
              "        [0.00245621],\n",
              "        [0.00882853]]])"
            ]
          },
          "metadata": {
            "tags": []
          },
          "execution_count": 59
        }
      ]
    },
    {
      "cell_type": "code",
      "metadata": {
        "id": "itcqQcPAAWS8",
        "colab_type": "code",
        "colab": {
          "base_uri": "https://localhost:8080/",
          "height": 34
        },
        "outputId": "e2d521d9-7e6f-4176-c779-2a4d52f83e1b"
      },
      "source": [
        "y_train.shape"
      ],
      "execution_count": 53,
      "outputs": [
        {
          "output_type": "execute_result",
          "data": {
            "text/plain": [
              "(185, 1)"
            ]
          },
          "metadata": {
            "tags": []
          },
          "execution_count": 53
        }
      ]
    },
    {
      "cell_type": "code",
      "metadata": {
        "id": "EZ5_6HtFBBrG",
        "colab_type": "code",
        "colab": {
          "base_uri": "https://localhost:8080/",
          "height": 68
        },
        "outputId": "7a456bf0-eeb5-466b-8225-4ddd65b193a5"
      },
      "source": [
        "y_train[:3]"
      ],
      "execution_count": 60,
      "outputs": [
        {
          "output_type": "execute_result",
          "data": {
            "text/plain": [
              "array([[0.00245621],\n",
              "       [0.00882853],\n",
              "       [0.00169167]])"
            ]
          },
          "metadata": {
            "tags": []
          },
          "execution_count": 60
        }
      ]
    },
    {
      "cell_type": "code",
      "metadata": {
        "id": "8VwCgl9EAWpe",
        "colab_type": "code",
        "colab": {
          "base_uri": "https://localhost:8080/",
          "height": 34
        },
        "outputId": "4e203bd2-edd0-406e-c930-f3394ab2ad40"
      },
      "source": [
        "x_test.shape"
      ],
      "execution_count": 54,
      "outputs": [
        {
          "output_type": "execute_result",
          "data": {
            "text/plain": [
              "(42, 5, 1)"
            ]
          },
          "metadata": {
            "tags": []
          },
          "execution_count": 54
        }
      ]
    },
    {
      "cell_type": "code",
      "metadata": {
        "id": "c9fWI_ZkAXZT",
        "colab_type": "code",
        "colab": {
          "base_uri": "https://localhost:8080/",
          "height": 34
        },
        "outputId": "994d1cbc-50b3-4f4d-fd09-4dc28b005d32"
      },
      "source": [
        "y_test.shape"
      ],
      "execution_count": 55,
      "outputs": [
        {
          "output_type": "execute_result",
          "data": {
            "text/plain": [
              "(42, 1)"
            ]
          },
          "metadata": {
            "tags": []
          },
          "execution_count": 55
        }
      ]
    },
    {
      "cell_type": "code",
      "metadata": {
        "id": "MqdEB3WvCfz6",
        "colab_type": "code",
        "colab": {}
      },
      "source": [
        "#Create Prediction. LSTM Model\n",
        "x_train = torch.from_numpy(x_train).float()\n",
        "y_train = torch.from_numpy(y_train).float()\n",
        "\n",
        "\n",
        "x_test = torch.from_numpy(x_test).float()\n",
        "y_test = torch.from_numpy(y_test).float()"
      ],
      "execution_count": null,
      "outputs": []
    },
    {
      "cell_type": "markdown",
      "metadata": {
        "id": "S1B2aXkfC4zT",
        "colab_type": "text"
      },
      "source": [
        "## Building a Model"
      ]
    },
    {
      "cell_type": "code",
      "metadata": {
        "id": "3X9JQvzlC6vg",
        "colab_type": "code",
        "colab": {}
      },
      "source": [
        "class CoronaVirusPredictor(nn.Module):\n",
        "\n",
        "  #Constructor\n",
        "  def __init__(self, input_dim, hidden_dim, seq_length, num_layers=2): #2 layers: 1. LSTM, 2.Linear\n",
        "    super(CoronaVirusPredictor, self).__init__()\n",
        "\n",
        "    #Get variables into properties\n",
        "    self.input_dim = input_dim\n",
        "    self.hidden_dim = hidden_dim\n",
        "    self.seq_length = seq_length\n",
        "    self.num_layers = num_layers\n",
        "\n",
        "    # 1st layer = LSTM\n",
        "    self.lstm = nn.LSTM(\n",
        "      input_size = input_dim, \n",
        "      hidden_size = hidden_dim, #no of neurons\n",
        "      num_layers = num_layers, \n",
        "      dropout = 0.5 #eliminates post-processing\n",
        "    )\n",
        "\n",
        "    # 2nd layer = Linear\n",
        "    self.linear = nn.Linear(\n",
        "      in_features = hidden_dim, \n",
        "      out_features = 1\n",
        "    )\n",
        "\n",
        "  def reset_hidden_state(self): #define a method\n",
        "    self.hidden = (\n",
        "        torch.zeros(self.num_layers, self.seq_length, self.hidden_dim),\n",
        "        torch.zeros(self.num_layers, self.seq_length, self.hidden_dim)\n",
        "    )\n",
        "\n",
        "  def forward(self, input):\n",
        "    lstm_out, = self.lstm(input.view(len(input), self.seq_length, -1), self.hidden)\n",
        "    y_pred = self.linear(lstm_out.view(self.seq_len, len(input), self.hidden_dim)[-1]) \n",
        "\n",
        "    return y_pred"
      ],
      "execution_count": 69,
      "outputs": []
    },
    {
      "cell_type": "code",
      "metadata": {
        "id": "ScVMaqbqHSlo",
        "colab_type": "code",
        "colab": {}
      },
      "source": [
        "def train_model(model, train_data, train_labels, test_data=None, test_labels=None): #=None implies optional parameter\n",
        "  loss_fn = nn.MSELoss(reduction = 'sum') #loss is by MSE sum\n",
        "\n",
        "  optimiser = optim.Adam(model.parameters(),lr = 1e-3) #lr = learning rate, 1e-3 = 0.001\n",
        "\n",
        "  num_epochs = 60\n",
        "\n",
        "  train_hist = np.zeros(num_epochs)\n",
        "  test_hist = np.zeros(num_epochs)\n",
        "\n",
        "  for t in range(num_epochs):\n",
        "    model.reset_hidden_state()\n",
        "    y_pred = model(x_train)\n",
        "    loss = loss_fn(y_pred.float(), y_train)\n",
        "\n",
        "    if test_data is not None: #If we have test data\n",
        "      with torch.no_grad(): #No gradient calculations\n",
        "        y_test_pred = model(x_test) #calling model\n",
        "        test_loss = loss_fn(y_test_pred.float(), y_test) #calculating the loss\n",
        "      test_hist[t] = test_loss.item() #appending to history\n",
        "\n",
        "      #Respition t % 10 == 0 means every 10 epochs\n",
        "      if t % 10 == 0: #print train and test loss\n",
        "        print(f'Epoch {t} train loss: {loss.item()} test loss: {test_loss.item()}')\n",
        "    elif t % 10 == 0: #otherwise just train loss\n",
        "      print(f'Epoch {t} train loss: {loss.item()}')\n",
        "\n",
        "    train_hist[t] = loss.item() #Add true loss history\n",
        "\n",
        "    optimiser.zero_grad() #optimisers gradient\n",
        "\n",
        "    loss.backward()\n",
        "\n",
        "    optimiser.step()\n",
        "\n",
        "  return model.eval(), train_hist, test_hist"
      ],
      "execution_count": 70,
      "outputs": []
    },
    {
      "cell_type": "markdown",
      "metadata": {
        "id": "T-tkJmVpK8Q-",
        "colab_type": "text"
      },
      "source": [
        "Create instance of model"
      ]
    },
    {
      "cell_type": "code",
      "metadata": {
        "id": "cldKVQT8K5sv",
        "colab_type": "code",
        "colab": {
          "base_uri": "https://localhost:8080/",
          "height": 324
        },
        "outputId": "17be08a4-af78-48dd-ce92-2df94ed749ad"
      },
      "source": [
        "model = CoronaVirusPredictor(1, 512, seq_length = seq_length, num_layers = 2)\n",
        "model, train_hist, test_hist = train_model(model, x_train, y_train, x_test, y_test)"
      ],
      "execution_count": 71,
      "outputs": [
        {
          "output_type": "error",
          "ename": "TypeError",
          "evalue": "ignored",
          "traceback": [
            "\u001b[0;31m---------------------------------------------------------------------------\u001b[0m",
            "\u001b[0;31mTypeError\u001b[0m                                 Traceback (most recent call last)",
            "\u001b[0;32m<ipython-input-71-f5f2f172c77a>\u001b[0m in \u001b[0;36m<module>\u001b[0;34m()\u001b[0m\n\u001b[1;32m      1\u001b[0m \u001b[0mmodel\u001b[0m \u001b[0;34m=\u001b[0m \u001b[0mCoronaVirusPredictor\u001b[0m\u001b[0;34m(\u001b[0m\u001b[0;36m1\u001b[0m\u001b[0;34m,\u001b[0m \u001b[0;36m512\u001b[0m\u001b[0;34m,\u001b[0m \u001b[0mseq_length\u001b[0m \u001b[0;34m=\u001b[0m \u001b[0mseq_length\u001b[0m\u001b[0;34m,\u001b[0m \u001b[0mnum_layers\u001b[0m \u001b[0;34m=\u001b[0m \u001b[0;36m2\u001b[0m\u001b[0;34m)\u001b[0m\u001b[0;34m\u001b[0m\u001b[0;34m\u001b[0m\u001b[0m\n\u001b[0;32m----> 2\u001b[0;31m \u001b[0mmodel\u001b[0m\u001b[0;34m,\u001b[0m \u001b[0mtrain_hist\u001b[0m\u001b[0;34m,\u001b[0m \u001b[0mtest_hist\u001b[0m \u001b[0;34m=\u001b[0m \u001b[0mtrain_model\u001b[0m\u001b[0;34m(\u001b[0m\u001b[0mmodel\u001b[0m\u001b[0;34m,\u001b[0m \u001b[0mx_train\u001b[0m\u001b[0;34m,\u001b[0m \u001b[0my_train\u001b[0m\u001b[0;34m,\u001b[0m \u001b[0mx_test\u001b[0m\u001b[0;34m,\u001b[0m \u001b[0my_test\u001b[0m\u001b[0;34m)\u001b[0m\u001b[0;34m\u001b[0m\u001b[0;34m\u001b[0m\u001b[0m\n\u001b[0m",
            "\u001b[0;32m<ipython-input-70-383bcf1bf0a6>\u001b[0m in \u001b[0;36mtrain_model\u001b[0;34m(model, train_data, train_labels, test_data, test_labels)\u001b[0m\n\u001b[1;32m     11\u001b[0m   \u001b[0;32mfor\u001b[0m \u001b[0mt\u001b[0m \u001b[0;32min\u001b[0m \u001b[0mrange\u001b[0m\u001b[0;34m(\u001b[0m\u001b[0mnum_epochs\u001b[0m\u001b[0;34m)\u001b[0m\u001b[0;34m:\u001b[0m\u001b[0;34m\u001b[0m\u001b[0;34m\u001b[0m\u001b[0m\n\u001b[1;32m     12\u001b[0m     \u001b[0mmodel\u001b[0m\u001b[0;34m.\u001b[0m\u001b[0mreset_hidden_state\u001b[0m\u001b[0;34m(\u001b[0m\u001b[0;34m)\u001b[0m\u001b[0;34m\u001b[0m\u001b[0;34m\u001b[0m\u001b[0m\n\u001b[0;32m---> 13\u001b[0;31m     \u001b[0my_pred\u001b[0m \u001b[0;34m=\u001b[0m \u001b[0mmodel\u001b[0m\u001b[0;34m(\u001b[0m\u001b[0mx_train\u001b[0m\u001b[0;34m)\u001b[0m\u001b[0;34m\u001b[0m\u001b[0;34m\u001b[0m\u001b[0m\n\u001b[0m\u001b[1;32m     14\u001b[0m     \u001b[0mloss\u001b[0m \u001b[0;34m=\u001b[0m \u001b[0mloss_fn\u001b[0m\u001b[0;34m(\u001b[0m\u001b[0my_pred\u001b[0m\u001b[0;34m.\u001b[0m\u001b[0mfloat\u001b[0m\u001b[0;34m(\u001b[0m\u001b[0;34m)\u001b[0m\u001b[0;34m,\u001b[0m \u001b[0my_train\u001b[0m\u001b[0;34m)\u001b[0m\u001b[0;34m\u001b[0m\u001b[0;34m\u001b[0m\u001b[0m\n\u001b[1;32m     15\u001b[0m \u001b[0;34m\u001b[0m\u001b[0m\n",
            "\u001b[0;32m/usr/local/lib/python3.6/dist-packages/torch/nn/modules/module.py\u001b[0m in \u001b[0;36m_call_impl\u001b[0;34m(self, *input, **kwargs)\u001b[0m\n\u001b[1;32m    720\u001b[0m             \u001b[0mresult\u001b[0m \u001b[0;34m=\u001b[0m \u001b[0mself\u001b[0m\u001b[0;34m.\u001b[0m\u001b[0m_slow_forward\u001b[0m\u001b[0;34m(\u001b[0m\u001b[0;34m*\u001b[0m\u001b[0minput\u001b[0m\u001b[0;34m,\u001b[0m \u001b[0;34m**\u001b[0m\u001b[0mkwargs\u001b[0m\u001b[0;34m)\u001b[0m\u001b[0;34m\u001b[0m\u001b[0;34m\u001b[0m\u001b[0m\n\u001b[1;32m    721\u001b[0m         \u001b[0;32melse\u001b[0m\u001b[0;34m:\u001b[0m\u001b[0;34m\u001b[0m\u001b[0;34m\u001b[0m\u001b[0m\n\u001b[0;32m--> 722\u001b[0;31m             \u001b[0mresult\u001b[0m \u001b[0;34m=\u001b[0m \u001b[0mself\u001b[0m\u001b[0;34m.\u001b[0m\u001b[0mforward\u001b[0m\u001b[0;34m(\u001b[0m\u001b[0;34m*\u001b[0m\u001b[0minput\u001b[0m\u001b[0;34m,\u001b[0m \u001b[0;34m**\u001b[0m\u001b[0mkwargs\u001b[0m\u001b[0;34m)\u001b[0m\u001b[0;34m\u001b[0m\u001b[0;34m\u001b[0m\u001b[0m\n\u001b[0m\u001b[1;32m    723\u001b[0m         for hook in itertools.chain(\n\u001b[1;32m    724\u001b[0m                 \u001b[0m_global_forward_hooks\u001b[0m\u001b[0;34m.\u001b[0m\u001b[0mvalues\u001b[0m\u001b[0;34m(\u001b[0m\u001b[0;34m)\u001b[0m\u001b[0;34m,\u001b[0m\u001b[0;34m\u001b[0m\u001b[0;34m\u001b[0m\u001b[0m\n",
            "\u001b[0;32m<ipython-input-69-7439ee569a58>\u001b[0m in \u001b[0;36mforward\u001b[0;34m(self, input)\u001b[0m\n\u001b[1;32m     33\u001b[0m   \u001b[0;32mdef\u001b[0m \u001b[0mforward\u001b[0m\u001b[0;34m(\u001b[0m\u001b[0mself\u001b[0m\u001b[0;34m,\u001b[0m \u001b[0minput\u001b[0m\u001b[0;34m)\u001b[0m\u001b[0;34m:\u001b[0m\u001b[0;34m\u001b[0m\u001b[0;34m\u001b[0m\u001b[0m\n\u001b[1;32m     34\u001b[0m     lstm_out, = self.lstm(\n\u001b[0;32m---> 35\u001b[0;31m         \u001b[0minput\u001b[0m\u001b[0;34m.\u001b[0m\u001b[0mview\u001b[0m\u001b[0;34m(\u001b[0m\u001b[0mlen\u001b[0m\u001b[0;34m(\u001b[0m\u001b[0minput\u001b[0m\u001b[0;34m)\u001b[0m\u001b[0;34m,\u001b[0m \u001b[0mself\u001b[0m\u001b[0;34m.\u001b[0m\u001b[0mseq_length\u001b[0m\u001b[0;34m,\u001b[0m \u001b[0;34m-\u001b[0m\u001b[0;36m1\u001b[0m\u001b[0;34m)\u001b[0m\u001b[0;34m,\u001b[0m\u001b[0;34m\u001b[0m\u001b[0;34m\u001b[0m\u001b[0m\n\u001b[0m\u001b[1;32m     36\u001b[0m         \u001b[0mself\u001b[0m\u001b[0;34m.\u001b[0m\u001b[0mhidden\u001b[0m\u001b[0;34m\u001b[0m\u001b[0;34m\u001b[0m\u001b[0m\n\u001b[1;32m     37\u001b[0m     )\n",
            "\u001b[0;31mTypeError\u001b[0m: view() takes at most 2 arguments (3 given)"
          ]
        }
      ]
    }
  ]
}